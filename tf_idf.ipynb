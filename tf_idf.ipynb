{
 "cells": [
  {
   "cell_type": "code",
   "execution_count": 24,
   "metadata": {},
   "outputs": [],
   "source": [
    "import pandas as pd\n",
    "from sklearn.feature_extraction.text import TfidfVectorizer"
   ]
  },
  {
   "cell_type": "code",
   "execution_count": 25,
   "metadata": {},
   "outputs": [],
   "source": [
    "df = pd.read_csv(\"ham_messages.csv\")"
   ]
  },
  {
   "cell_type": "code",
   "execution_count": 26,
   "metadata": {},
   "outputs": [],
   "source": [
    "tfidf_vectorizer = TfidfVectorizer()\n",
    "tfidf_matrix = tfidf_vectorizer.fit_transform(df[\"Message\"])"
   ]
  },
  {
   "cell_type": "code",
   "execution_count": 27,
   "metadata": {},
   "outputs": [],
   "source": [
    "max_tfidf_scores = tfidf_matrix.max(axis=1).toarray().flatten()"
   ]
  },
  {
   "cell_type": "code",
   "execution_count": 28,
   "metadata": {},
   "outputs": [],
   "source": [
    "df[\"Priority\"] = max_tfidf_scores"
   ]
  },
  {
   "cell_type": "code",
   "execution_count": 29,
   "metadata": {},
   "outputs": [],
   "source": [
    "df = df.sort_values(by=\"Priority\", ascending=False)"
   ]
  },
  {
   "cell_type": "code",
   "execution_count": 30,
   "metadata": {},
   "outputs": [],
   "source": [
    "df = df.reset_index(drop=True)"
   ]
  },
  {
   "cell_type": "code",
   "execution_count": 31,
   "metadata": {},
   "outputs": [
    {
     "name": "stdout",
     "output_type": "stream",
     "text": [
      "       Subject                                            Message  Priority\n",
      "0   LyfyVXWaSW                   No calls..messages..missed calls  0.765123\n",
      "1   ompCFimwjC   Ha ha ha good joke. Girls are situation seekers.  0.763410\n",
      "2   mwqkYCZscC                   Ok i am on the way to home hi hi  0.707904\n",
      "3   fHpRcmcWNp  U dun say so early hor... U c already then say...  0.667380\n",
      "4   aVTtmLNBdh  U dun say so early hor... U c already then say...  0.667380\n",
      "..         ...                                                ...       ...\n",
      "70  crwlionjPt  Pls go ahead with watts. I just wanted to be s...  0.301399\n",
      "71  KKJAExEWcO  I'm gonna be home soon and i don't want to tal...  0.271954\n",
      "72  ggtUFkYaBc  Go until jurong point, crazy.. Available only ...  0.249057\n",
      "73  ewOHuHJMIp  Go until jurong point, crazy.. Available only ...  0.249057\n",
      "74  rCleAmkMIL  Just forced myself to eat a slice. I'm really ...  0.225198\n",
      "\n",
      "[75 rows x 3 columns]\n"
     ]
    }
   ],
   "source": [
    "print(df[[\"Subject\", \"Message\", \"Priority\"]])"
   ]
  },
  {
   "cell_type": "code",
   "execution_count": 32,
   "metadata": {},
   "outputs": [
    {
     "data": {
      "text/html": [
       "<div>\n",
       "<style scoped>\n",
       "    .dataframe tbody tr th:only-of-type {\n",
       "        vertical-align: middle;\n",
       "    }\n",
       "\n",
       "    .dataframe tbody tr th {\n",
       "        vertical-align: top;\n",
       "    }\n",
       "\n",
       "    .dataframe thead th {\n",
       "        text-align: right;\n",
       "    }\n",
       "</style>\n",
       "<table border=\"1\" class=\"dataframe\">\n",
       "  <thead>\n",
       "    <tr style=\"text-align: right;\">\n",
       "      <th></th>\n",
       "      <th>Subject</th>\n",
       "      <th>Message</th>\n",
       "      <th>Priority</th>\n",
       "    </tr>\n",
       "  </thead>\n",
       "  <tbody>\n",
       "    <tr>\n",
       "      <th>0</th>\n",
       "      <td>LyfyVXWaSW</td>\n",
       "      <td>No calls..messages..missed calls</td>\n",
       "      <td>0.765123</td>\n",
       "    </tr>\n",
       "    <tr>\n",
       "      <th>1</th>\n",
       "      <td>ompCFimwjC</td>\n",
       "      <td>Ha ha ha good joke. Girls are situation seekers.</td>\n",
       "      <td>0.763410</td>\n",
       "    </tr>\n",
       "    <tr>\n",
       "      <th>2</th>\n",
       "      <td>mwqkYCZscC</td>\n",
       "      <td>Ok i am on the way to home hi hi</td>\n",
       "      <td>0.707904</td>\n",
       "    </tr>\n",
       "    <tr>\n",
       "      <th>3</th>\n",
       "      <td>fHpRcmcWNp</td>\n",
       "      <td>U dun say so early hor... U c already then say...</td>\n",
       "      <td>0.667380</td>\n",
       "    </tr>\n",
       "    <tr>\n",
       "      <th>4</th>\n",
       "      <td>aVTtmLNBdh</td>\n",
       "      <td>U dun say so early hor... U c already then say...</td>\n",
       "      <td>0.667380</td>\n",
       "    </tr>\n",
       "    <tr>\n",
       "      <th>...</th>\n",
       "      <td>...</td>\n",
       "      <td>...</td>\n",
       "      <td>...</td>\n",
       "    </tr>\n",
       "    <tr>\n",
       "      <th>60</th>\n",
       "      <td>aecQfUCuQZ</td>\n",
       "      <td>Yeah he got in at 2 and was v apologetic. n ha...</td>\n",
       "      <td>0.345832</td>\n",
       "    </tr>\n",
       "    <tr>\n",
       "      <th>61</th>\n",
       "      <td>rhiiJulYdz</td>\n",
       "      <td>Hello! How's you and how did saturday go? I wa...</td>\n",
       "      <td>0.344304</td>\n",
       "    </tr>\n",
       "    <tr>\n",
       "      <th>62</th>\n",
       "      <td>HqnPeLDEaG</td>\n",
       "      <td>Yup... Ok i go home look at the timings then i...</td>\n",
       "      <td>0.343770</td>\n",
       "    </tr>\n",
       "    <tr>\n",
       "      <th>63</th>\n",
       "      <td>wLwPSvGWDn</td>\n",
       "      <td>Yeah hopefully, if tyler can't do it I could m...</td>\n",
       "      <td>0.321262</td>\n",
       "    </tr>\n",
       "    <tr>\n",
       "      <th>64</th>\n",
       "      <td>eMGKjRgrRW</td>\n",
       "      <td>Do you know what Mallika Sherawat did yesterda...</td>\n",
       "      <td>0.316879</td>\n",
       "    </tr>\n",
       "  </tbody>\n",
       "</table>\n",
       "<p>65 rows × 3 columns</p>\n",
       "</div>"
      ],
      "text/plain": [
       "       Subject                                            Message  Priority\n",
       "0   LyfyVXWaSW                   No calls..messages..missed calls  0.765123\n",
       "1   ompCFimwjC   Ha ha ha good joke. Girls are situation seekers.  0.763410\n",
       "2   mwqkYCZscC                   Ok i am on the way to home hi hi  0.707904\n",
       "3   fHpRcmcWNp  U dun say so early hor... U c already then say...  0.667380\n",
       "4   aVTtmLNBdh  U dun say so early hor... U c already then say...  0.667380\n",
       "..         ...                                                ...       ...\n",
       "60  aecQfUCuQZ  Yeah he got in at 2 and was v apologetic. n ha...  0.345832\n",
       "61  rhiiJulYdz  Hello! How's you and how did saturday go? I wa...  0.344304\n",
       "62  HqnPeLDEaG  Yup... Ok i go home look at the timings then i...  0.343770\n",
       "63  wLwPSvGWDn  Yeah hopefully, if tyler can't do it I could m...  0.321262\n",
       "64  eMGKjRgrRW  Do you know what Mallika Sherawat did yesterda...  0.316879\n",
       "\n",
       "[65 rows x 3 columns]"
      ]
     },
     "execution_count": 32,
     "metadata": {},
     "output_type": "execute_result"
    }
   ],
   "source": [
    "df.head(-10)"
   ]
  },
  {
   "cell_type": "code",
   "execution_count": 33,
   "metadata": {},
   "outputs": [],
   "source": [
    "high_priority_emails = df[df[\"Priority\"] > 0.7]\n",
    "medium_priority_emails = df[(df[\"Priority\"] >= 0.4) & (df[\"Priority\"] <= 0.7)]\n",
    "low_priority_emails = df[df[\"Priority\"] < 0.4]"
   ]
  },
  {
   "cell_type": "code",
   "execution_count": 34,
   "metadata": {},
   "outputs": [],
   "source": [
    "high_priority_emails.to_csv(\"HighPriority.csv\", index=False)\n",
    "medium_priority_emails.to_csv(\"MediumPriority.csv\", index=False)\n",
    "low_priority_emails.to_csv(\"LowPriority.csv\", index=False)"
   ]
  },
  {
   "cell_type": "code",
   "execution_count": 35,
   "metadata": {},
   "outputs": [
    {
     "name": "stdout",
     "output_type": "stream",
     "text": [
      "High Priority Emails:\n",
      "      Subject                                           Message  Priority\n",
      "0  LyfyVXWaSW                  No calls..messages..missed calls  0.765123\n",
      "1  ompCFimwjC  Ha ha ha good joke. Girls are situation seekers.  0.763410\n",
      "2  mwqkYCZscC                  Ok i am on the way to home hi hi  0.707904\n"
     ]
    }
   ],
   "source": [
    "print(\"High Priority Emails:\")\n",
    "print(high_priority_emails[[\"Subject\", \"Message\", \"Priority\"]])"
   ]
  },
  {
   "cell_type": "code",
   "execution_count": 36,
   "metadata": {},
   "outputs": [
    {
     "name": "stdout",
     "output_type": "stream",
     "text": [
      "\n",
      "Medium Priority Emails:\n",
      "       Subject                                            Message  Priority\n",
      "3   fHpRcmcWNp  U dun say so early hor... U c already then say...  0.667380\n",
      "4   aVTtmLNBdh  U dun say so early hor... U c already then say...  0.667380\n",
      "5   FLEhbUxyrD  I like you peoples very much:) but am very shy...  0.646544\n",
      "6   cDkRwfOGtc    I‘m going to try for 2 months ha ha only joking  0.645785\n",
      "7   JNaNXLccBW                        Anything lor... U decide...  0.635428\n",
      "8   azEAFHMagk                             Tell where you reached  0.617087\n",
      "9   tooyViSBFL                         Oh k...i'm watching here:)  0.615006\n",
      "10  wlwdmlzvWn                                     Yup next stop.  0.612499\n",
      "11  RskqYirppL                                WHO ARE YOU SEEING?  0.607238\n",
      "12  JPjswPNbYi                             Sorry, I'll call later  0.555077\n",
      "13  EyTNQVlOJG                      Finished class where are you.  0.553158\n",
      "14  DaiBuyFrKX  Wait that's still not all that clear, were you...  0.544852\n",
      "15  KyNaGLsNPh                      K tell me anything about you.  0.532082\n",
      "16  vRmHLGEXsP                     Lol your always so convincing.  0.527408\n",
      "17  FGfTtUOdLn                               U can call me now...  0.523644\n",
      "18  kISgpMZGNh                    Fair enough, anything going on?  0.522950\n",
      "19  FGtRSFimfE                    K. Did you call me just now ah?  0.515744\n",
      "20  fYiIvZMpcF  Fine if thats the way u feel. Thats the way ...  0.514415\n",
      "21  szojziRtEE                       I see the letter B on my car  0.504156\n",
      "22  PKtMUzOxgU         K..k:)where are you?how did you performed?  0.502370\n",
      "23  RMfxDawBnH                I HAVE A DATE ON SUNDAY WITH WILL!!  0.499161\n",
      "24  uScAeGtdqI  Did I forget to tell you ? I want you , I need...  0.492222\n",
      "25  KDSfSExRwF                  Ok lar... Joking wif u oni...\\r\\n  0.490870\n",
      "26  eODlVKatTE                      Ok lar... Joking wif u oni...  0.490870\n",
      "27  cYyMJmNQdo                 Sorry, I'll call later in meeting.  0.488277\n",
      "28  peqjWXOftH                          Its a part of checking IQ  0.481921\n",
      "29  AugsBBhEVn  Nah I don't think he goes to usf, he lives aro...  0.465923\n",
      "30  kadYEcAwrC  Nah I don't think he goes to usf, he lives aro...  0.465923\n",
      "31  MnBsebdHDu  Aft i finish my lunch then i go str down lor. ...  0.457792\n",
      "32  IueuJPAvIX  Today is \"song dedicated day..\" Which song wil...  0.454837\n",
      "33  bdmRTgLscq  For fear of fainting with the of all that hous...  0.454296\n",
      "34  BuhzulvJIO  U don't know how stubborn I am. I didn't even ...  0.454201\n",
      "35  BaFdorUwPe                 I plane to give on this month end.  0.443873\n",
      "36  rFYjWqBeDJ          Is that seriously how you spell his name?  0.443103\n",
      "37  MaQoKbUoZq  What you thinked about me. First time you saw ...  0.442841\n",
      "38  jaAVnZoJeY  Thats cool. i am a gentleman and will treat yo...  0.441848\n",
      "39  xLOljaFJCH  A gram usually runs like  &lt;#&gt; , a half e...  0.437485\n",
      "40  SrBNzWtHZh  Did you catch the bus ? Are you frying an egg ...  0.435868\n",
      "41  gyJgGrOQxf      Didn't you get hep b immunisation in nigeria.  0.430564\n",
      "42  FjOMUtDSOG  Ok lar i double check wif da hair dresser alre...  0.423030\n",
      "43  NdcEEInoXU        I am waiting machan. Call me once you free.  0.419611\n",
      "44  bxkRcxGtzu               You will be in the place of that man  0.414486\n",
      "45  UTHKWDcfRK  Even my brother is not like to speak with me. ...  0.412759\n",
      "46  vamjCAnjIR         Does not operate after  &lt;#&gt;  or what  0.410154\n"
     ]
    }
   ],
   "source": [
    "\n",
    "print(\"\\nMedium Priority Emails:\")\n",
    "print(medium_priority_emails[[\"Subject\", \"Message\", \"Priority\"]])"
   ]
  },
  {
   "cell_type": "code",
   "execution_count": 37,
   "metadata": {},
   "outputs": [
    {
     "name": "stdout",
     "output_type": "stream",
     "text": [
      "\n",
      "Low Priority Emails:\n",
      "       Subject                                            Message  Priority\n",
      "47  NCFQuUrwRe    Oops, I'll let you know when my roommate's done  0.392845\n",
      "48  lOofgKTZWz           Yes..gauti and sehwag out of odi series.  0.389395\n",
      "49  hzkMmtfgYb     Wah lucky man... Then can save money... Hee...  0.382403\n",
      "50  NeUCggplhs  As per your request 'Melle Melle (Oru Minnamin...  0.370327\n",
      "51  yolxuBAdCg  Ffffffffff. Alright no way I can meet up with ...  0.366294\n",
      "52  ZpqLwndHnp  So ü pay first lar... Then when is da stock co...  0.365269\n",
      "53  cBgYOzlOdt  Wow. I never realized that you were so embaras...  0.358091\n",
      "54  rYbgCvaRyi  I've been searching for the right words to tha...  0.357059\n",
      "55  mBGNNFCsaM  Your gonna have to pick up a $1 burger for you...  0.355621\n",
      "56  kBqRIcRvri      HI BABE IM AT HOME NOW WANNA DO SOMETHING? XX  0.353076\n",
      "57  qCaXeUcddf  Sorry my roommates took forever, it ok if I co...  0.348688\n",
      "58  lbupXOlLmh  Great! I hope you like your man well endowed. ...  0.346791\n",
      "59  eZTELVFhCW  Ahhh. Work. I vaguely remember that! What does...  0.345874\n",
      "60  aecQfUCuQZ  Yeah he got in at 2 and was v apologetic. n ha...  0.345832\n",
      "61  rhiiJulYdz  Hello! How's you and how did saturday go? I wa...  0.344304\n",
      "62  HqnPeLDEaG  Yup... Ok i go home look at the timings then i...  0.343770\n",
      "63  wLwPSvGWDn  Yeah hopefully, if tyler can't do it I could m...  0.321262\n",
      "64  eMGKjRgrRW  Do you know what Mallika Sherawat did yesterda...  0.316879\n",
      "65  jkJIUprhAl  Eh u remember how 2 spell his name... Yes i di...  0.314327\n",
      "66  dxwjIxuFlT  Good evening,\\r\\n              I am Hashim fro...  0.306955\n",
      "67  slIGVjqfLr  K fyi x has a ride early tomorrow morning but ...  0.303892\n",
      "68  RrxazqYUgu  I'm back &amp; we're packing the car now, I'll...  0.303572\n",
      "69  weSefqkJrd  Its not the same here. Still looking for a job...  0.303567\n",
      "70  crwlionjPt  Pls go ahead with watts. I just wanted to be s...  0.301399\n",
      "71  KKJAExEWcO  I'm gonna be home soon and i don't want to tal...  0.271954\n",
      "72  ggtUFkYaBc  Go until jurong point, crazy.. Available only ...  0.249057\n",
      "73  ewOHuHJMIp  Go until jurong point, crazy.. Available only ...  0.249057\n",
      "74  rCleAmkMIL  Just forced myself to eat a slice. I'm really ...  0.225198\n"
     ]
    }
   ],
   "source": [
    "\n",
    "print(\"\\nLow Priority Emails:\")\n",
    "print(low_priority_emails[[\"Subject\", \"Message\", \"Priority\"]])"
   ]
  }
 ],
 "metadata": {
  "kernelspec": {
   "display_name": "Python 3",
   "language": "python",
   "name": "python3"
  },
  "language_info": {
   "codemirror_mode": {
    "name": "ipython",
    "version": 3
   },
   "file_extension": ".py",
   "mimetype": "text/x-python",
   "name": "python",
   "nbconvert_exporter": "python",
   "pygments_lexer": "ipython3",
   "version": "3.11.4"
  }
 },
 "nbformat": 4,
 "nbformat_minor": 2
}
